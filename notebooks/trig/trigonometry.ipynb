{
 "cells": [
  {
   "cell_type": "markdown",
   "metadata": {},
   "source": [
    "## Trigonometry "
   ]
  },
  {
   "cell_type": "markdown",
   "metadata": {},
   "source": [
    "Trigonometry is a branch of mathematics that studies relationships involving lengths and angles of triangles. The bulk of trigonometry involves ratios between sides according to their respective angle. These ratios are calculated through six trignometric functions.\n",
    " \n",
    " <img src=\"../../img/triangle.png\">\n",
    " [Citation](https://en.wikipedia.org/wiki/Trigonometric_functions)\n",
    " \n",
    " $\\sin(\\alpha)=\\frac{y}{r}$ |  $\\cos(\\alpha)=\\frac{x}{r}$ |  $\\tan(\\alpha)=\\frac{y}{x}$ |  $\\csc(\\alpha)=\\frac{r}{y}$   $\\sec(\\alpha)=\\frac{r}{x}$ |  $\\cot(\\alpha)=\\frac{x}{y}$\n",
    "\n",
    "Each respective trignometric function can help you solve for a side related in the ratio. For example:\n",
    "\n",
    "$\\alpha = 30$ $y=12$ $x=?$\n",
    "\n",
    "$\\tan(30)=\\frac{12}{x}$ By multiplying by x then dividing by $\\tan(30)$, we arrive at $x=\\frac{12}{\\tan(30)}=20.78461$ \n",
    "\n",
    "Sometimes we are given sides but no angle of the triangle. By using inverse trignometric functions we are able to solve for the angle of the triangle. Inverse trignometric functions can be described as $\\sin^{-1}(\\alpha)$ or $\\arcsin(\\alpha)$. To slove for an angle we can solve like so: \n",
    "$\\alpha = ?$ $y=12$ $x=20$\n",
    "\n",
    "$\\arctan(\\frac{12}{20})=\\alpha$ By solving  $\\tan(30)$, we arrive at $x=\\frac{12}{\\tan(30)}=$ \n"
   ]
  },
  {
   "cell_type": "code",
   "execution_count": null,
   "metadata": {
    "collapsed": true
   },
   "outputs": [],
   "source": []
  },
  {
   "cell_type": "code",
   "execution_count": null,
   "metadata": {
    "collapsed": true
   },
   "outputs": [],
   "source": []
  }
 ],
 "metadata": {
  "kernelspec": {
   "display_name": "Python 3",
   "language": "python",
   "name": "python3"
  },
  "language_info": {
   "codemirror_mode": {
    "name": "ipython",
    "version": 3
   },
   "file_extension": ".py",
   "mimetype": "text/x-python",
   "name": "python",
   "nbconvert_exporter": "python",
   "pygments_lexer": "ipython3",
   "version": "3.4.4"
  }
 },
 "nbformat": 4,
 "nbformat_minor": 0
}
